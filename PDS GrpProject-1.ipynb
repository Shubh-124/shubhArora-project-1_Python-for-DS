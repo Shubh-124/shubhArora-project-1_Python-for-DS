{
 "cells": [
  {
   "cell_type": "markdown",
   "id": "4e2d2b44",
   "metadata": {},
   "source": [
    "# Load and explore data"
   ]
  },
  {
   "cell_type": "code",
   "execution_count": 1,
   "id": "1ed5ba31",
   "metadata": {},
   "outputs": [],
   "source": [
    "# Point 1: Import the required libraries\n",
    "import pandas as pd\n",
    "import numpy as np\n",
    "import seaborn as sns\n",
    "import matplotlib.pyplot as plt\n",
    "import warnings\n",
    "warnings.filterwarnings('ignore')\n",
    "import sklearn\n",
    "from sklearn.preprocessing import StandardScaler, LabelEncoder, MinMaxScaler\n",
    "from sklearn.model_selection import train_test_split\n",
    "from sklearn.linear_model import LinearRegression\n",
    "from sklearn.metrics import r2_score"
   ]
  },
  {
   "cell_type": "code",
   "execution_count": 2,
   "id": "b8ec026a",
   "metadata": {},
   "outputs": [
    {
     "name": "stdout",
     "output_type": "stream",
     "text": [
      "First few samples:\n",
      "       ID               Name  Age  \\\n",
      "0  158023           L. Messi   31   \n",
      "1   20801  Cristiano Ronaldo   33   \n",
      "2  190871          Neymar Jr   26   \n",
      "3  193080             De Gea   27   \n",
      "4  192985       K. De Bruyne   27   \n",
      "\n",
      "                                            Photo Nationality  \\\n",
      "0  https://cdn.sofifa.org/players/4/19/158023.png   Argentina   \n",
      "1   https://cdn.sofifa.org/players/4/19/20801.png    Portugal   \n",
      "2  https://cdn.sofifa.org/players/4/19/190871.png      Brazil   \n",
      "3  https://cdn.sofifa.org/players/4/19/193080.png       Spain   \n",
      "4  https://cdn.sofifa.org/players/4/19/192985.png     Belgium   \n",
      "\n",
      "                                  Flag  Overall  Potential  \\\n",
      "0  https://cdn.sofifa.org/flags/52.png       94         94   \n",
      "1  https://cdn.sofifa.org/flags/38.png       94         94   \n",
      "2  https://cdn.sofifa.org/flags/54.png       92         93   \n",
      "3  https://cdn.sofifa.org/flags/45.png       91         93   \n",
      "4   https://cdn.sofifa.org/flags/7.png       91         92   \n",
      "\n",
      "                  Club                                     Club Logo  ...  \\\n",
      "0         FC Barcelona  https://cdn.sofifa.org/teams/2/light/241.png  ...   \n",
      "1             Juventus   https://cdn.sofifa.org/teams/2/light/45.png  ...   \n",
      "2  Paris Saint-Germain   https://cdn.sofifa.org/teams/2/light/73.png  ...   \n",
      "3    Manchester United   https://cdn.sofifa.org/teams/2/light/11.png  ...   \n",
      "4      Manchester City   https://cdn.sofifa.org/teams/2/light/10.png  ...   \n",
      "\n",
      "  Composure Marking StandingTackle  SlidingTackle  GKDiving  GKHandling  \\\n",
      "0      96.0    33.0           28.0           26.0       6.0        11.0   \n",
      "1      95.0    28.0           31.0           23.0       7.0        11.0   \n",
      "2      94.0    27.0           24.0           33.0       9.0         9.0   \n",
      "3      68.0    15.0           21.0           13.0      90.0        85.0   \n",
      "4      88.0    68.0           58.0           51.0      15.0        13.0   \n",
      "\n",
      "  GKKicking GKPositioning GKReflexes  Release Clause  \n",
      "0      15.0          14.0        8.0         €226.5M  \n",
      "1      15.0          14.0       11.0         €127.1M  \n",
      "2      15.0          15.0       11.0         €228.1M  \n",
      "3      87.0          88.0       94.0         €138.6M  \n",
      "4       5.0          10.0       13.0         €196.4M  \n",
      "\n",
      "[5 rows x 60 columns]\n"
     ]
    }
   ],
   "source": [
    "# Point 2: Read the dataset and explore it\n",
    "fifa_data = pd.read_csv('fifa.csv')\n",
    "\n",
    "# Display the first few samples\n",
    "print(\"First few samples:\")\n",
    "print(fifa_data.head())"
   ]
  },
  {
   "cell_type": "code",
   "execution_count": 3,
   "id": "11e7b9c0",
   "metadata": {},
   "outputs": [
    {
     "name": "stdout",
     "output_type": "stream",
     "text": [
      "(18207, 60)\n",
      "<class 'pandas.core.frame.DataFrame'>\n",
      "RangeIndex: 18207 entries, 0 to 18206\n",
      "Data columns (total 60 columns):\n",
      " #   Column                    Non-Null Count  Dtype  \n",
      "---  ------                    --------------  -----  \n",
      " 0   ID                        18207 non-null  int64  \n",
      " 1   Name                      18207 non-null  object \n",
      " 2   Age                       18207 non-null  int64  \n",
      " 3   Photo                     18207 non-null  object \n",
      " 4   Nationality               18207 non-null  object \n",
      " 5   Flag                      18207 non-null  object \n",
      " 6   Overall                   18207 non-null  int64  \n",
      " 7   Potential                 18207 non-null  int64  \n",
      " 8   Club                      17966 non-null  object \n",
      " 9   Club Logo                 18207 non-null  object \n",
      " 10  Value                     18207 non-null  object \n",
      " 11  Wage                      18207 non-null  object \n",
      " 12  Preferred Foot            18159 non-null  object \n",
      " 13  International Reputation  18159 non-null  float64\n",
      " 14  Weak Foot                 18159 non-null  float64\n",
      " 15  Skill Moves               18159 non-null  float64\n",
      " 16  Work Rate                 18159 non-null  object \n",
      " 17  Body Type                 18159 non-null  object \n",
      " 18  Position                  18147 non-null  object \n",
      " 19  Jersey Number             18147 non-null  float64\n",
      " 20  Joined                    16654 non-null  object \n",
      " 21  Loaned From               1264 non-null   object \n",
      " 22  Contract Valid Until      17918 non-null  object \n",
      " 23  Height                    18159 non-null  object \n",
      " 24  Weight                    18159 non-null  object \n",
      " 25  Crossing                  18159 non-null  float64\n",
      " 26  Finishing                 18159 non-null  float64\n",
      " 27  HeadingAccuracy           18159 non-null  float64\n",
      " 28  ShortPassing              18159 non-null  float64\n",
      " 29  Volleys                   18159 non-null  float64\n",
      " 30  Dribbling                 18159 non-null  float64\n",
      " 31  Curve                     18159 non-null  float64\n",
      " 32  FKAccuracy                18159 non-null  float64\n",
      " 33  LongPassing               18159 non-null  float64\n",
      " 34  BallControl               18159 non-null  float64\n",
      " 35  Acceleration              18159 non-null  float64\n",
      " 36  SprintSpeed               18159 non-null  float64\n",
      " 37  Agility                   18159 non-null  float64\n",
      " 38  Reactions                 18159 non-null  float64\n",
      " 39  Balance                   18159 non-null  float64\n",
      " 40  ShotPower                 18159 non-null  float64\n",
      " 41  Jumping                   18159 non-null  float64\n",
      " 42  Stamina                   18159 non-null  float64\n",
      " 43  Strength                  18159 non-null  float64\n",
      " 44  LongShots                 18159 non-null  float64\n",
      " 45  Aggression                18159 non-null  float64\n",
      " 46  Interceptions             18159 non-null  float64\n",
      " 47  Positioning               18159 non-null  float64\n",
      " 48  Vision                    18159 non-null  float64\n",
      " 49  Penalties                 18159 non-null  float64\n",
      " 50  Composure                 18159 non-null  float64\n",
      " 51  Marking                   18159 non-null  float64\n",
      " 52  StandingTackle            18159 non-null  float64\n",
      " 53  SlidingTackle             18159 non-null  float64\n",
      " 54  GKDiving                  18159 non-null  float64\n",
      " 55  GKHandling                18159 non-null  float64\n",
      " 56  GKKicking                 18159 non-null  float64\n",
      " 57  GKPositioning             18159 non-null  float64\n",
      " 58  GKReflexes                18159 non-null  float64\n",
      " 59  Release Clause            16643 non-null  object \n",
      "dtypes: float64(38), int64(4), object(18)\n",
      "memory usage: 8.3+ MB\n",
      "None\n"
     ]
    }
   ],
   "source": [
    "#Display the shape of the data\n",
    "print(fifa_data.shape)\n",
    "\n",
    "# Display information about the data, including data types and missing values\n",
    "print(fifa_data.info())"
   ]
  },
  {
   "cell_type": "code",
   "execution_count": 4,
   "id": "22227ad1",
   "metadata": {},
   "outputs": [
    {
     "name": "stdout",
     "output_type": "stream",
     "text": [
      "0        Medium/ Medium\n",
      "1             High/ Low\n",
      "2          High/ Medium\n",
      "3        Medium/ Medium\n",
      "4            High/ High\n",
      "              ...      \n",
      "18202    Medium/ Medium\n",
      "18203    Medium/ Medium\n",
      "18204    Medium/ Medium\n",
      "18205    Medium/ Medium\n",
      "18206    Medium/ Medium\n",
      "Name: Work Rate, Length: 18207, dtype: object\n"
     ]
    }
   ],
   "source": [
    "print(fifa_data['Work Rate'])"
   ]
  },
  {
   "cell_type": "code",
   "execution_count": 5,
   "id": "909a1c57",
   "metadata": {},
   "outputs": [
    {
     "name": "stdout",
     "output_type": "stream",
     "text": [
      "\n",
      "Data shape after dropping redundant columns:\n",
      "(18207, 54)\n"
     ]
    }
   ],
   "source": [
    "# Point 3: Drop redundant columns\n",
    "redundant_columns = ['Photo', 'Flag', 'Club Logo', 'Body Type','Loaned From','Work Rate' ]\n",
    "fifa_data = fifa_data.drop(columns=redundant_columns, axis=1)\n",
    "\n",
    "# Display updated data shape after dropping columns\n",
    "print(\"\\nData shape after dropping redundant columns:\")\n",
    "print(fifa_data.shape)\n"
   ]
  },
  {
   "cell_type": "code",
   "execution_count": 6,
   "id": "fea3feab",
   "metadata": {},
   "outputs": [
    {
     "data": {
      "text/plain": [
       "0"
      ]
     },
     "execution_count": 6,
     "metadata": {},
     "output_type": "execute_result"
    }
   ],
   "source": [
    "#No duplicate data present\n",
    "fifa_data.duplicated().sum()"
   ]
  },
  {
   "cell_type": "markdown",
   "id": "ffaae9f3",
   "metadata": {},
   "source": [
    "# Data Cleaning and Preprocessing (18 points)"
   ]
  },
  {
   "cell_type": "code",
   "execution_count": 20,
   "id": "c274f3bf",
   "metadata": {},
   "outputs": [
    {
     "name": "stdout",
     "output_type": "stream",
     "text": [
      "         Value      Wage  Release Clause\n",
      "0  110500000.0  565000.0     226500000.0\n",
      "1   77000000.0  405000.0     127100000.0\n",
      "2  118500000.0  290000.0     228100000.0\n",
      "3   72000000.0  260000.0     138600000.0\n",
      "4  102000000.0  355000.0     196400000.0\n"
     ]
    }
   ],
   "source": [
    "# Point 4\n",
    "print(fifa_data[['Value', 'Wage', 'Release Clause']].head())"
   ]
  },
  {
   "cell_type": "code",
   "execution_count": 19,
   "id": "808b4049",
   "metadata": {},
   "outputs": [],
   "source": [
    "# Function to convert currency values to float\n",
    "def convert_curr(currency_value):\n",
    "    if isinstance(currency_value, float):\n",
    "        return currency_value\n",
    "    elif 'M' in currency_value:\n",
    "        return float(currency_value.replace('€', '').replace('M', '')) * 1000000\n",
    "    elif 'K' in currency_value:\n",
    "        return float(currency_value.replace('€', '').replace('K', '')) * 1000\n",
    "    else:\n",
    "        return float(currency_value.replace('€', ''))\n"
   ]
  },
  {
   "cell_type": "code",
   "execution_count": 17,
   "id": "e438ea98",
   "metadata": {},
   "outputs": [],
   "source": [
    "#Converting 'Value' column\n",
    "fifa_data['Value'] = fifa_data['Value'].apply(convert_curr)\n",
    "\n",
    "# Converting 'Wage' column\n",
    "fifa_data['Wage'] = fifa_data['Wage'].apply(convert_curr)\n",
    "\n",
    "# Converting 'Release Clause' column\n",
    "fifa_data['Release Clause'] = fifa_data['Release Clause'].apply(convert_curr)\n"
   ]
  },
  {
   "cell_type": "code",
   "execution_count": 18,
   "id": "602ed9dc",
   "metadata": {},
   "outputs": [
    {
     "name": "stdout",
     "output_type": "stream",
     "text": [
      "         Value      Wage  Release Clause\n",
      "0  110500000.0  565000.0     226500000.0\n",
      "1   77000000.0  405000.0     127100000.0\n",
      "2  118500000.0  290000.0     228100000.0\n",
      "3   72000000.0  260000.0     138600000.0\n",
      "4  102000000.0  355000.0     196400000.0\n"
     ]
    }
   ],
   "source": [
    "# Updated dataframe\n",
    "print(fifa_data[['Value', 'Wage', 'Release Clause']].head())"
   ]
  },
  {
   "cell_type": "code",
   "execution_count": 22,
   "id": "562745e2",
   "metadata": {},
   "outputs": [
    {
     "data": {
      "text/plain": [
       "0     Jul 1, 2004\n",
       "1    Jul 10, 2018\n",
       "2     Aug 3, 2017\n",
       "3     Jul 1, 2011\n",
       "4    Aug 30, 2015\n",
       "5     Jul 1, 2012\n",
       "6     Aug 1, 2012\n",
       "7    Jul 11, 2014\n",
       "8     Aug 1, 2005\n",
       "9    Jul 16, 2014\n",
       "Name: Joined, dtype: object"
      ]
     },
     "execution_count": 22,
     "metadata": {},
     "output_type": "execute_result"
    }
   ],
   "source": [
    "# Point 5\n",
    "fifa_data['Joined'].head(10)"
   ]
  },
  {
   "cell_type": "code",
   "execution_count": 30,
   "id": "b5d3db60",
   "metadata": {},
   "outputs": [],
   "source": [
    "fifa_data['Joined'] = pd.to_datetime(fifa_data['Joined'], errors='coerce').dt.year.astype('Int64')"
   ]
  },
  {
   "cell_type": "code",
   "execution_count": 31,
   "id": "efc68501",
   "metadata": {},
   "outputs": [
    {
     "data": {
      "text/plain": [
       "0    1970\n",
       "1    1970\n",
       "2    1970\n",
       "3    1970\n",
       "4    1970\n",
       "5    1970\n",
       "6    1970\n",
       "7    1970\n",
       "8    1970\n",
       "9    1970\n",
       "Name: Joined, dtype: Int64"
      ]
     },
     "execution_count": 31,
     "metadata": {},
     "output_type": "execute_result"
    }
   ],
   "source": [
    "fifa_data['Joined'].head(10)"
   ]
  },
  {
   "cell_type": "code",
   "execution_count": 25,
   "id": "60160c53",
   "metadata": {},
   "outputs": [
    {
     "data": {
      "text/plain": [
       "0    2021\n",
       "1    2022\n",
       "2    2022\n",
       "3    2020\n",
       "4    2023\n",
       "Name: Contract Valid Until, dtype: object"
      ]
     },
     "execution_count": 25,
     "metadata": {},
     "output_type": "execute_result"
    }
   ],
   "source": [
    "#Point 6\n",
    "fifa_data['Contract Valid Until'].head(5)"
   ]
  },
  {
   "cell_type": "code",
   "execution_count": 32,
   "id": "ee37d1aa",
   "metadata": {},
   "outputs": [],
   "source": [
    "fifa_data['Contract Valid Until'] = pd.to_datetime(fifa_data['Contract Valid Until'], errors='coerce')"
   ]
  },
  {
   "cell_type": "code",
   "execution_count": 33,
   "id": "d1c10fc9",
   "metadata": {},
   "outputs": [
    {
     "data": {
      "text/plain": [
       "0   2021-01-01\n",
       "1   2022-01-01\n",
       "2   2022-01-01\n",
       "3   2020-01-01\n",
       "4   2023-01-01\n",
       "Name: Contract Valid Until, dtype: datetime64[ns]"
      ]
     },
     "execution_count": 33,
     "metadata": {},
     "output_type": "execute_result"
    }
   ],
   "source": [
    "fifa_data['Contract Valid Until'].head()"
   ]
  },
  {
   "cell_type": "code",
   "execution_count": 34,
   "id": "96789786",
   "metadata": {},
   "outputs": [
    {
     "data": {
      "text/plain": [
       "0     5'7\n",
       "1     6'2\n",
       "2     5'9\n",
       "3     6'4\n",
       "4    5'11\n",
       "Name: Height, dtype: object"
      ]
     },
     "execution_count": 34,
     "metadata": {},
     "output_type": "execute_result"
    }
   ],
   "source": [
    "# Point 7\n",
    "fifa_data['Height'].head()"
   ]
  },
  {
   "cell_type": "code",
   "execution_count": 49,
   "id": "ca778028",
   "metadata": {},
   "outputs": [],
   "source": [
    "#convert height to float\n",
    "def convert_height(height):\n",
    "    if isinstance(height, float):\n",
    "        return height \n",
    "    else:\n",
    "        feet, inches = map(int, height.split(\"'\"))\n",
    "        total_inches = feet * 12 + inches\n",
    "        return total_inches"
   ]
  },
  {
   "cell_type": "code",
   "execution_count": 41,
   "id": "c1404495",
   "metadata": {},
   "outputs": [],
   "source": [
    "fifa_data['Height'] = fifa_data['Height'].apply(convert_height)"
   ]
  },
  {
   "cell_type": "code",
   "execution_count": 46,
   "id": "32172c56",
   "metadata": {},
   "outputs": [
    {
     "name": "stdout",
     "output_type": "stream",
     "text": [
      "0    67.0\n",
      "1    74.0\n",
      "2    69.0\n",
      "3    76.0\n",
      "4    71.0\n",
      "Name: Height, dtype: float64\n"
     ]
    }
   ],
   "source": [
    "print(fifa_data['Height'].head())"
   ]
  },
  {
   "cell_type": "code",
   "execution_count": 48,
   "id": "d9a18bd3",
   "metadata": {},
   "outputs": [
    {
     "data": {
      "text/plain": [
       "0    159lbs\n",
       "1    183lbs\n",
       "2    150lbs\n",
       "3    168lbs\n",
       "4    154lbs\n",
       "Name: Weight, dtype: object"
      ]
     },
     "execution_count": 48,
     "metadata": {},
     "output_type": "execute_result"
    }
   ],
   "source": [
    "# Point 8\n",
    "fifa_data['Weight'].head()"
   ]
  },
  {
   "cell_type": "code",
   "execution_count": 50,
   "id": "99e91c8d",
   "metadata": {},
   "outputs": [],
   "source": [
    "def convert_weight(weight):\n",
    "    if isinstance(weight, float):\n",
    "        return weight  # Return as is if already a float\n",
    "    else:\n",
    "        return float(weight.replace('lbs', ''))\n"
   ]
  },
  {
   "cell_type": "code",
   "execution_count": 51,
   "id": "3bc0502a",
   "metadata": {},
   "outputs": [],
   "source": [
    "fifa_data['Weight'] = fifa_data['Weight'].apply(convert_weight)"
   ]
  },
  {
   "cell_type": "code",
   "execution_count": 52,
   "id": "9834bb09",
   "metadata": {},
   "outputs": [
    {
     "data": {
      "text/plain": [
       "0    159.0\n",
       "1    183.0\n",
       "2    150.0\n",
       "3    168.0\n",
       "4    154.0\n",
       "Name: Weight, dtype: float64"
      ]
     },
     "execution_count": 52,
     "metadata": {},
     "output_type": "execute_result"
    }
   ],
   "source": [
    "fifa_data['Weight'].head()"
   ]
  },
  {
   "cell_type": "code",
   "execution_count": 57,
   "id": "a6dba37c",
   "metadata": {},
   "outputs": [
    {
     "name": "stdout",
     "output_type": "stream",
     "text": [
      "Club                        1.323667\n",
      "Preferred Foot              0.263635\n",
      "International Reputation    0.263635\n",
      "Weak Foot                   0.263635\n",
      "Skill Moves                 0.263635\n",
      "Position                    0.329544\n",
      "Jersey Number               0.329544\n",
      "Joined                      8.529686\n",
      "Contract Valid Until        1.587302\n",
      "Height                      0.263635\n",
      "Weight                      0.263635\n",
      "Crossing                    0.263635\n",
      "Finishing                   0.263635\n",
      "HeadingAccuracy             0.263635\n",
      "ShortPassing                0.263635\n",
      "Volleys                     0.263635\n",
      "Dribbling                   0.263635\n",
      "Curve                       0.263635\n",
      "FKAccuracy                  0.263635\n",
      "LongPassing                 0.263635\n",
      "BallControl                 0.263635\n",
      "Acceleration                0.263635\n",
      "SprintSpeed                 0.263635\n",
      "Agility                     0.263635\n",
      "Reactions                   0.263635\n",
      "Balance                     0.263635\n",
      "ShotPower                   0.263635\n",
      "Jumping                     0.263635\n",
      "Stamina                     0.263635\n",
      "Strength                    0.263635\n",
      "LongShots                   0.263635\n",
      "Aggression                  0.263635\n",
      "Interceptions               0.263635\n",
      "Positioning                 0.263635\n",
      "Vision                      0.263635\n",
      "Penalties                   0.263635\n",
      "Composure                   0.263635\n",
      "Marking                     0.263635\n",
      "StandingTackle              0.263635\n",
      "SlidingTackle               0.263635\n",
      "GKDiving                    0.263635\n",
      "GKHandling                  0.263635\n",
      "GKKicking                   0.263635\n",
      "GKPositioning               0.263635\n",
      "GKReflexes                  0.263635\n",
      "Release Clause              8.590103\n",
      "dtype: float64\n"
     ]
    }
   ],
   "source": [
    "# Point 9\n",
    "#Finding percentage of missing values in each column\n",
    "miss_percent=fifa_data.isnull().mean()*100\n",
    "print(miss_percent[miss_percent > 0])"
   ]
  },
  {
   "cell_type": "code",
   "execution_count": 60,
   "id": "82e18a36",
   "metadata": {},
   "outputs": [],
   "source": [
    "# Imputing numerical columns with mean\n",
    "num_columns = fifa_data.select_dtypes(include=['float64', 'int64']).columns\n",
    "fifa_data[num_columns] = fifa_data[num_columns].fillna(fifa_data[num_columns].mean())\n",
    "\n",
    "# Impute categorical columns with mode\n",
    "cat_columns = fifa_data.select_dtypes(include=['object','datetime64']).columns\n",
    "fifa_data[cat_columns] = fifa_data[cat_columns].fillna(fifa_data[cat_columns].mode().iloc[0])"
   ]
  },
  {
   "cell_type": "code",
   "execution_count": 62,
   "id": "2d2d7e68",
   "metadata": {},
   "outputs": [
    {
     "data": {
      "text/plain": [
       "ID                          0.0\n",
       "Name                        0.0\n",
       "Age                         0.0\n",
       "Nationality                 0.0\n",
       "Overall                     0.0\n",
       "Potential                   0.0\n",
       "Club                        0.0\n",
       "Value                       0.0\n",
       "Wage                        0.0\n",
       "Preferred Foot              0.0\n",
       "International Reputation    0.0\n",
       "Weak Foot                   0.0\n",
       "Skill Moves                 0.0\n",
       "Position                    0.0\n",
       "Jersey Number               0.0\n",
       "Joined                      0.0\n",
       "Contract Valid Until        0.0\n",
       "Height                      0.0\n",
       "Weight                      0.0\n",
       "Crossing                    0.0\n",
       "Finishing                   0.0\n",
       "HeadingAccuracy             0.0\n",
       "ShortPassing                0.0\n",
       "Volleys                     0.0\n",
       "Dribbling                   0.0\n",
       "Curve                       0.0\n",
       "FKAccuracy                  0.0\n",
       "LongPassing                 0.0\n",
       "BallControl                 0.0\n",
       "Acceleration                0.0\n",
       "SprintSpeed                 0.0\n",
       "Agility                     0.0\n",
       "Reactions                   0.0\n",
       "Balance                     0.0\n",
       "ShotPower                   0.0\n",
       "Jumping                     0.0\n",
       "Stamina                     0.0\n",
       "Strength                    0.0\n",
       "LongShots                   0.0\n",
       "Aggression                  0.0\n",
       "Interceptions               0.0\n",
       "Positioning                 0.0\n",
       "Vision                      0.0\n",
       "Penalties                   0.0\n",
       "Composure                   0.0\n",
       "Marking                     0.0\n",
       "StandingTackle              0.0\n",
       "SlidingTackle               0.0\n",
       "GKDiving                    0.0\n",
       "GKHandling                  0.0\n",
       "GKKicking                   0.0\n",
       "GKPositioning               0.0\n",
       "GKReflexes                  0.0\n",
       "Release Clause              0.0\n",
       "dtype: float64"
      ]
     },
     "execution_count": 62,
     "metadata": {},
     "output_type": "execute_result"
    }
   ],
   "source": [
    "fifa_data.isnull().mean()"
   ]
  },
  {
   "cell_type": "markdown",
   "id": "242ac470",
   "metadata": {},
   "source": [
    "# Exploratory Data Analysis"
   ]
  },
  {
   "cell_type": "code",
   "execution_count": 63,
   "id": "24a05b0c",
   "metadata": {},
   "outputs": [
    {
     "name": "stdout",
     "output_type": "stream",
     "text": [
      "<class 'pandas.core.frame.DataFrame'>\n",
      "RangeIndex: 18207 entries, 0 to 18206\n",
      "Data columns (total 54 columns):\n",
      " #   Column                    Non-Null Count  Dtype         \n",
      "---  ------                    --------------  -----         \n",
      " 0   ID                        18207 non-null  int64         \n",
      " 1   Name                      18207 non-null  object        \n",
      " 2   Age                       18207 non-null  int64         \n",
      " 3   Nationality               18207 non-null  object        \n",
      " 4   Overall                   18207 non-null  int64         \n",
      " 5   Potential                 18207 non-null  int64         \n",
      " 6   Club                      18207 non-null  object        \n",
      " 7   Value                     18207 non-null  float64       \n",
      " 8   Wage                      18207 non-null  float64       \n",
      " 9   Preferred Foot            18207 non-null  object        \n",
      " 10  International Reputation  18207 non-null  float64       \n",
      " 11  Weak Foot                 18207 non-null  float64       \n",
      " 12  Skill Moves               18207 non-null  float64       \n",
      " 13  Position                  18207 non-null  object        \n",
      " 14  Jersey Number             18207 non-null  float64       \n",
      " 15  Joined                    18207 non-null  Int64         \n",
      " 16  Contract Valid Until      18207 non-null  datetime64[ns]\n",
      " 17  Height                    18207 non-null  float64       \n",
      " 18  Weight                    18207 non-null  float64       \n",
      " 19  Crossing                  18207 non-null  float64       \n",
      " 20  Finishing                 18207 non-null  float64       \n",
      " 21  HeadingAccuracy           18207 non-null  float64       \n",
      " 22  ShortPassing              18207 non-null  float64       \n",
      " 23  Volleys                   18207 non-null  float64       \n",
      " 24  Dribbling                 18207 non-null  float64       \n",
      " 25  Curve                     18207 non-null  float64       \n",
      " 26  FKAccuracy                18207 non-null  float64       \n",
      " 27  LongPassing               18207 non-null  float64       \n",
      " 28  BallControl               18207 non-null  float64       \n",
      " 29  Acceleration              18207 non-null  float64       \n",
      " 30  SprintSpeed               18207 non-null  float64       \n",
      " 31  Agility                   18207 non-null  float64       \n",
      " 32  Reactions                 18207 non-null  float64       \n",
      " 33  Balance                   18207 non-null  float64       \n",
      " 34  ShotPower                 18207 non-null  float64       \n",
      " 35  Jumping                   18207 non-null  float64       \n",
      " 36  Stamina                   18207 non-null  float64       \n",
      " 37  Strength                  18207 non-null  float64       \n",
      " 38  LongShots                 18207 non-null  float64       \n",
      " 39  Aggression                18207 non-null  float64       \n",
      " 40  Interceptions             18207 non-null  float64       \n",
      " 41  Positioning               18207 non-null  float64       \n",
      " 42  Vision                    18207 non-null  float64       \n",
      " 43  Penalties                 18207 non-null  float64       \n",
      " 44  Composure                 18207 non-null  float64       \n",
      " 45  Marking                   18207 non-null  float64       \n",
      " 46  StandingTackle            18207 non-null  float64       \n",
      " 47  SlidingTackle             18207 non-null  float64       \n",
      " 48  GKDiving                  18207 non-null  float64       \n",
      " 49  GKHandling                18207 non-null  float64       \n",
      " 50  GKKicking                 18207 non-null  float64       \n",
      " 51  GKPositioning             18207 non-null  float64       \n",
      " 52  GKReflexes                18207 non-null  float64       \n",
      " 53  Release Clause            18207 non-null  float64       \n",
      "dtypes: Int64(1), datetime64[ns](1), float64(43), int64(4), object(5)\n",
      "memory usage: 7.5+ MB\n"
     ]
    }
   ],
   "source": [
    "fifa_data.info()"
   ]
  },
  {
   "cell_type": "code",
   "execution_count": 79,
   "id": "dde188ea",
   "metadata": {},
   "outputs": [
    {
     "data": {
      "image/png": "[encoded data removed]",
      "text/plain": [
       "<Figure size 432x288 with 1 Axes>"
      ]
     },
     "metadata": {
      "needs_background": "light"
     },
     "output_type": "display_data"
    }
   ],
   "source": [
    "# Point 10\n",
    "plt.hist(fifa_data['Overall'], bins=20, color='skyblue', edgecolor='black')\n",
    "plt.title('Distribution of Overall Rating for Players')\n",
    "plt.xlabel('Overall Rating')\n",
    "plt.ylabel('Frequency')\n",
    "plt.show()"
   ]
  },
  {
   "cell_type": "code",
   "execution_count": 83,
   "id": "0d354c92",
   "metadata": {},
   "outputs": [
    {
     "name": "stdout",
     "output_type": "stream",
     "text": [
      "                 Name  Overall\n",
      "0            L. Messi       94\n",
      "1   Cristiano Ronaldo       94\n",
      "2           Neymar Jr       92\n",
      "3              De Gea       91\n",
      "4        K. De Bruyne       91\n",
      "5           E. Hazard       91\n",
      "6           L. Modrić       91\n",
      "7           L. Suárez       91\n",
      "8        Sergio Ramos       91\n",
      "9            J. Oblak       90\n",
      "10     R. Lewandowski       90\n",
      "11           T. Kroos       90\n",
      "12           D. Godín       90\n",
      "13        David Silva       90\n",
      "14           N. Kanté       89\n",
      "15          P. Dybala       89\n",
      "16            H. Kane       89\n",
      "17       A. Griezmann       89\n",
      "18      M. ter Stegen       89\n",
      "19        T. Courtois       89\n"
     ]
    }
   ],
   "source": [
    "# Point 11\n",
    "top20 = fifa_data.nlargest(20, 'Overall')\n",
    "print(top20[['Name', 'Overall']])"
   ]
  },
  {
   "cell_type": "code",
   "execution_count": 88,
   "id": "7237e61c",
   "metadata": {},
   "outputs": [
    {
     "name": "stdout",
     "output_type": "stream",
     "text": [
      "        ID               Name  Age Nationality  Overall  Potential  \\\n",
      "0   158023           L. Messi   31   Argentina       94         94   \n",
      "1    20801  Cristiano Ronaldo   33    Portugal       94         94   \n",
      "2   190871          Neymar Jr   26      Brazil       92         93   \n",
      "3   193080             De Gea   27       Spain       91         93   \n",
      "4   192985       K. De Bruyne   27     Belgium       91         92   \n",
      "5   183277          E. Hazard   27     Belgium       91         91   \n",
      "6   177003          L. Modrić   32     Croatia       91         91   \n",
      "7   176580          L. Suárez   31     Uruguay       91         91   \n",
      "8   155862       Sergio Ramos   32       Spain       91         91   \n",
      "9   200389           J. Oblak   25    Slovenia       90         93   \n",
      "10  188545     R. Lewandowski   29      Poland       90         90   \n",
      "11  182521           T. Kroos   28     Germany       90         90   \n",
      "12  182493           D. Godín   32     Uruguay       90         90   \n",
      "13  168542        David Silva   32       Spain       90         90   \n",
      "14  215914           N. Kanté   27      France       89         90   \n",
      "15  211110          P. Dybala   24   Argentina       89         94   \n",
      "16  202126            H. Kane   24     England       89         91   \n",
      "17  194765       A. Griezmann   27      France       89         90   \n",
      "18  192448      M. ter Stegen   26     Germany       89         92   \n",
      "19  192119        T. Courtois   26     Belgium       89         90   \n",
      "\n",
      "                   Club        Value      Wage Preferred Foot  ...  Composure  \\\n",
      "0          FC Barcelona  110500000.0  565000.0           Left  ...       96.0   \n",
      "1              Juventus   77000000.0  405000.0          Right  ...       95.0   \n",
      "2   Paris Saint-Germain  118500000.0  290000.0          Right  ...       94.0   \n",
      "3     Manchester United   72000000.0  260000.0          Right  ...       68.0   \n",
      "4       Manchester City  102000000.0  355000.0          Right  ...       88.0   \n",
      "5               Chelsea   93000000.0  340000.0          Right  ...       91.0   \n",
      "6           Real Madrid   67000000.0  420000.0          Right  ...       84.0   \n",
      "7          FC Barcelona   80000000.0  455000.0          Right  ...       85.0   \n",
      "8           Real Madrid   51000000.0  380000.0          Right  ...       82.0   \n",
      "9       Atlético Madrid   68000000.0   94000.0          Right  ...       70.0   \n",
      "10    FC Bayern München   77000000.0  205000.0          Right  ...       86.0   \n",
      "11          Real Madrid   76500000.0  355000.0          Right  ...       85.0   \n",
      "12      Atlético Madrid   44000000.0  125000.0          Right  ...       82.0   \n",
      "13      Manchester City   60000000.0  285000.0           Left  ...       93.0   \n",
      "14              Chelsea   63000000.0  225000.0          Right  ...       85.0   \n",
      "15             Juventus   89000000.0  205000.0           Left  ...       84.0   \n",
      "16    Tottenham Hotspur   83500000.0  205000.0          Right  ...       89.0   \n",
      "17      Atlético Madrid   78000000.0  145000.0           Left  ...       87.0   \n",
      "18         FC Barcelona   58000000.0  240000.0          Right  ...       69.0   \n",
      "19          Real Madrid   53500000.0  240000.0           Left  ...       66.0   \n",
      "\n",
      "    Marking  StandingTackle SlidingTackle  GKDiving  GKHandling GKKicking  \\\n",
      "0      33.0            28.0          26.0       6.0        11.0      15.0   \n",
      "1      28.0            31.0          23.0       7.0        11.0      15.0   \n",
      "2      27.0            24.0          33.0       9.0         9.0      15.0   \n",
      "3      15.0            21.0          13.0      90.0        85.0      87.0   \n",
      "4      68.0            58.0          51.0      15.0        13.0       5.0   \n",
      "5      34.0            27.0          22.0      11.0        12.0       6.0   \n",
      "6      60.0            76.0          73.0      13.0         9.0       7.0   \n",
      "7      62.0            45.0          38.0      27.0        25.0      31.0   \n",
      "8      87.0            92.0          91.0      11.0         8.0       9.0   \n",
      "9      27.0            12.0          18.0      86.0        92.0      78.0   \n",
      "10     34.0            42.0          19.0      15.0         6.0      12.0   \n",
      "11     72.0            79.0          69.0      10.0        11.0      13.0   \n",
      "12     90.0            89.0          89.0       6.0         8.0      15.0   \n",
      "13     59.0            53.0          29.0       6.0        15.0       7.0   \n",
      "14     90.0            91.0          85.0      15.0        12.0      10.0   \n",
      "15     23.0            20.0          20.0       5.0         4.0       4.0   \n",
      "16     56.0            36.0          38.0       8.0        10.0      11.0   \n",
      "17     59.0            47.0          48.0      14.0         8.0      14.0   \n",
      "18     25.0            13.0          10.0      87.0        85.0      88.0   \n",
      "19     20.0            18.0          16.0      85.0        91.0      72.0   \n",
      "\n",
      "    GKPositioning  GKReflexes  Release Clause  \n",
      "0            14.0         8.0     226500000.0  \n",
      "1            14.0        11.0     127100000.0  \n",
      "2            15.0        11.0     228100000.0  \n",
      "3            88.0        94.0     138600000.0  \n",
      "4            10.0        13.0     196400000.0  \n",
      "5             8.0         8.0     172100000.0  \n",
      "6            14.0         9.0     137400000.0  \n",
      "7            33.0        37.0     164000000.0  \n",
      "8             7.0        11.0     104600000.0  \n",
      "9            88.0        89.0     144500000.0  \n",
      "10            8.0        10.0     127100000.0  \n",
      "11            7.0        10.0     156800000.0  \n",
      "12            5.0        15.0      90200000.0  \n",
      "13            6.0        12.0     111000000.0  \n",
      "14            7.0        10.0     121300000.0  \n",
      "15            5.0         8.0     153500000.0  \n",
      "16           14.0        11.0     160700000.0  \n",
      "17           13.0        14.0     165800000.0  \n",
      "18           85.0        90.0     123300000.0  \n",
      "19           86.0        88.0     113700000.0  \n",
      "\n",
      "[20 rows x 54 columns]\n"
     ]
    }
   ],
   "source": [
    "# Point 12\n",
    "print(top20)"
   ]
  },
  {
   "cell_type": "code",
   "execution_count": 90,
   "id": "21b69772",
   "metadata": {},
   "outputs": [
    {
     "name": "stdout",
     "output_type": "stream",
     "text": [
      "Average age of top 20 players:  28.3\n",
      "Average weight of top 20 players:  171.5\n"
     ]
    }
   ],
   "source": [
    "#Point 13\n",
    "avg_age=top20['Age'].mean()\n",
    "avg_weight=top20['Weight'].mean()\n",
    "print(\"Average age of top 20 players: \", avg_age)\n",
    "print(\"Average weight of top 20 players: \", avg_weight)"
   ]
  },
  {
   "cell_type": "code",
   "execution_count": 92,
   "id": "d0f98607",
   "metadata": {},
   "outputs": [
    {
     "name": "stdout",
     "output_type": "stream",
     "text": [
      "Player with the highest wage is  L. Messi  with a wage of  565000.0\n"
     ]
    }
   ],
   "source": [
    "#Point 14\n",
    "hwage_player = top20.loc[top20['Wage'].idxmax()]\n",
    "print(\"Player with the highest wage is \", hwage_player['Name'], \" with a wage of \", hwage_player['Wage'])"
   ]
  },
  {
   "cell_type": "code",
   "execution_count": 95,
   "id": "71416e0b",
   "metadata": {},
   "outputs": [
    {
     "name": "stdout",
     "output_type": "stream",
     "text": [
      "                Name                 Club      Wage  Overall\n",
      "0           L. Messi         FC Barcelona  565000.0       94\n",
      "1  Cristiano Ronaldo             Juventus  405000.0       94\n",
      "2          Neymar Jr  Paris Saint-Germain  290000.0       92\n",
      "3             De Gea    Manchester United  260000.0       91\n",
      "4       K. De Bruyne      Manchester City  355000.0       91\n"
     ]
    }
   ],
   "source": [
    "#Point 15\n",
    "specific_cols=['Name', 'Club', 'Wage','Overall']\n",
    "specific_df=fifa_data[specific_cols]\n",
    "print(specific_df.head())"
   ]
  },
  {
   "cell_type": "code",
   "execution_count": 96,
   "id": "ce5a4f05",
   "metadata": {},
   "outputs": [
    {
     "name": "stdout",
     "output_type": "stream",
     "text": [
      "                    Club    Overall\n",
      "0    SSV Jahn Regensburg  65.586207\n",
      "1  1. FC Heidenheim 1846  65.750000\n",
      "2   1. FC Kaiserslautern  63.384615\n",
      "3             1. FC Köln  70.785714\n",
      "4        1. FC Magdeburg  65.615385\n"
     ]
    }
   ],
   "source": [
    "#15.1\n",
    "avg_or = specific_df.groupby('Club')['Overall'].mean().reset_index()\n",
    "print(avg_or.head())"
   ]
  },
  {
   "cell_type": "code",
   "execution_count": 104,
   "id": "15a4e848",
   "metadata": {},
   "outputs": [
    {
     "name": "stdout",
     "output_type": "stream",
     "text": [
      "                    Club    Overall\n",
      "326             Juventus  82.280000\n",
      "398               Napoli  80.000000\n",
      "315                Inter  79.750000\n",
      "470          Real Madrid  78.242424\n",
      "382                Milan  78.074074\n",
      "212         FC Barcelona  78.030303\n",
      "435  Paris Saint-Germain  77.433333\n",
      "482                 Roma  77.423077\n",
      "375    Manchester United  77.242424\n",
      "504           SL Benfica  77.000000\n"
     ]
    },
    {
     "data": {
      "image/png": "[encoded data removed]",
      "text/plain": [
       "<Figure size 432x288 with 1 Axes>"
      ]
     },
     "metadata": {
      "needs_background": "light"
     },
     "output_type": "display_data"
    }
   ],
   "source": [
    "#15.2\n",
    "top_10_club = avg_or.sort_values(by='Overall', ascending=False).head(10)\n",
    "print(top_10_club)\n",
    "plt.bar(top_10_club['Club'], top_10_club['Overall'], color='skyblue', edgecolor='black')\n",
    "plt.title('Average Overall Rating for Top 10 Clubs')\n",
    "plt.xlabel('Club')\n",
    "plt.ylabel('Average Overall Rating')\n",
    "plt.xticks(rotation=45, ha='right')\n",
    "plt.show()"
   ]
  },
  {
   "cell_type": "code",
   "execution_count": 114,
   "id": "a4454f42",
   "metadata": {},
   "outputs": [
    {
     "data": {
      "image/png": "[encoded data removed]",
      "text/plain": [
       "<Figure size 432x288 with 1 Axes>"
      ]
     },
     "metadata": {
      "needs_background": "light"
     },
     "output_type": "display_data"
    }
   ],
   "source": [
    "# Point 16\n",
    "sns.scatterplot(x='Age', y='Potential', data=fifa_data, color='skyblue')\n",
    "plt.title('Relationship between Age and Potential of Players')\n",
    "plt.xlabel('Age')\n",
    "plt.ylabel('Potential')\n",
    "plt.grid(True)\n",
    "plt.show()\n",
    "# What we can infer from the scatter plot is that with increasing age, the potential of players is reducing"
   ]
  },
  {
   "cell_type": "code",
   "execution_count": 131,
   "id": "d6b8487b",
   "metadata": {},
   "outputs": [
    {
     "name": "stdout",
     "output_type": "stream",
     "text": [
      "Potential                   0.486413\n",
      "Overall                     0.571926\n",
      "Value                       0.858442\n",
      "International Reputation    0.668515\n",
      "Release Clause              0.828161\n",
      "Name: Wage, dtype: float64\n"
     ]
    }
   ],
   "source": [
    "# Point 17\n",
    "# potential, Overall, value, international reputation, and Release Clause\n",
    "selected_data = fifa_data[['Potential','Overall','Value','International Reputation','Release Clause','Wage']]\n",
    "corr_matrix=selected_data.corr()\n",
    "correlation_matrix = corr_matrix['Wage'].drop('Wage')\n",
    "\n",
    "print(correlation_matrix)"
   ]
  },
  {
   "cell_type": "code",
   "execution_count": 145,
   "id": "93cb5257",
   "metadata": {},
   "outputs": [
    {
     "data": {
      "image/png": "[encoded data removed]",
      "text/plain": [
       "<Figure size 432x288 with 1 Axes>"
      ]
     },
     "metadata": {
      "needs_background": "light"
     },
     "output_type": "display_data"
    }
   ],
   "source": [
    "# Plotting the correlation with 'Wage'\n",
    "sns.barplot(x=correlation_matrix.index, y=correlation_matrix.values, color='skyblue', edgecolor='black')\n",
    "plt.title('Correlation of Features with Wage')\n",
    "plt.xlabel('Features')\n",
    "plt.ylabel('Correlation with Wage')\n",
    "plt.xticks(rotation=45, ha='right')\n",
    "plt.show()\n",
    "# Here, 'Value' has the highest correlation with 'Wage'"
   ]
  },
  {
   "cell_type": "code",
   "execution_count": 132,
   "id": "2e144a9c",
   "metadata": {},
   "outputs": [
    {
     "data": {
      "image/png": "[encoded data removed]",
      "text/plain": [
       "<Figure size 432x288 with 1 Axes>"
      ]
     },
     "metadata": {
      "needs_background": "light"
     },
     "output_type": "display_data"
    },
    {
     "name": "stdout",
     "output_type": "stream",
     "text": [
      "Correlation metric between Value and Wage: 0.86\n"
     ]
    }
   ],
   "source": [
    "# Scatter plot between 'Wage' and 'Value'\n",
    "sns.scatterplot(x='Value', y='Wage', data=selected_data, color='skyblue')\n",
    "plt.title('Relationship between Value and Wage')\n",
    "plt.xlabel('Value')\n",
    "plt.ylabel('Wage')\n",
    "plt.show()\n",
    "\n",
    "# Display the correlation metric for the identified feature\n",
    "correlation_metric = corr_matrix.loc['Value', 'Wage']\n",
    "print(f\"Correlation metric between Value and Wage: {correlation_metric:.2f}\")"
   ]
  },
  {
   "cell_type": "code",
   "execution_count": 148,
   "id": "e48543d4",
   "metadata": {},
   "outputs": [
    {
     "name": "stdout",
     "output_type": "stream",
     "text": [
      "Position in the pitch with the maximum number of players:  ST\n",
      "Position in the pitch with the minimum number of players:  LF\n"
     ]
    },
    {
     "data": {
      "image/png": "[encoded data removed]",
      "text/plain": [
       "<Figure size 864x432 with 1 Axes>"
      ]
     },
     "metadata": {
      "needs_background": "light"
     },
     "output_type": "display_data"
    }
   ],
   "source": [
    "# Point 18\n",
    "# Count the number of players for each position\n",
    "pos_count = fifa_data['Position'].value_counts()\n",
    "\n",
    "# Find the position with the maximum and minimum number of players\n",
    "max_pos = pos_count.idxmax()\n",
    "min_pos = pos_count.idxmin()\n",
    "print(\"Position in the pitch with the maximum number of players: \",max_pos)\n",
    "print(\"Position in the pitch with the minimum number of players: \", min_pos)\n",
    "# Plot the distribution of player positions\n",
    "plt.figure(figsize=(12, 6))\n",
    "sns.countplot(x='Position', data=fifa_data, order=pos_count.index, color='skyblue', edgecolor='black')\n",
    "plt.title('Distribution of Player Positions')\n",
    "plt.xlabel('Position')\n",
    "plt.ylabel('Number of Players')\n",
    "plt.xticks(rotation=45, ha='right')\n",
    "\n",
    "# Highlighting the position with the maximum number of players\n",
    "plt.text(pos_count.index.get_loc(max_pos), pos_count.max() + 50, f'Max: {max_pos}', color='red', ha='center')\n",
    "\n",
    "# Highlighting the position with the minimum number of players\n",
    "plt.text(pos_count.index.get_loc(min_pos),pos_count.min() + 50, f'Min: {min_pos}', color='red', ha='center')\n",
    "\n",
    "plt.show()"
   ]
  },
  {
   "cell_type": "code",
   "execution_count": 152,
   "id": "a05939e7",
   "metadata": {},
   "outputs": [
    {
     "name": "stdout",
     "output_type": "stream",
     "text": [
      "        ID               Name  Age Nationality  Overall  Potential      Club  \\\n",
      "1    20801  Cristiano Ronaldo   33    Portugal       94         94  Juventus   \n",
      "15  211110          P. Dybala   24   Argentina       89         94  Juventus   \n",
      "24  138956       G. Chiellini   33       Italy       89         89  Juventus   \n",
      "\n",
      "         Value      Wage Preferred Foot  ...  Composure  Marking  \\\n",
      "1   77000000.0  405000.0          Right  ...       95.0     28.0   \n",
      "15  89000000.0  205000.0           Left  ...       84.0     23.0   \n",
      "24  27000000.0  215000.0           Left  ...       84.0     93.0   \n",
      "\n",
      "    StandingTackle SlidingTackle  GKDiving  GKHandling GKKicking  \\\n",
      "1             31.0          23.0       7.0        11.0      15.0   \n",
      "15            20.0          20.0       5.0         4.0       4.0   \n",
      "24            93.0          90.0       3.0         3.0       2.0   \n",
      "\n",
      "    GKPositioning  GKReflexes  Release Clause  \n",
      "1            14.0        11.0     127100000.0  \n",
      "15            5.0         8.0     153500000.0  \n",
      "24            4.0         3.0      44600000.0  \n",
      "\n",
      "[3 rows x 54 columns]\n"
     ]
    }
   ],
   "source": [
    "# Point 19\n",
    "req_players=fifa_data[(fifa_data['Club'] == 'Juventus') & (fifa_data['Wage'] > 200000)]\n",
    "print(req_players)\n",
    "# We have 3 such players"
   ]
  },
  {
   "cell_type": "code",
   "execution_count": 159,
   "id": "e862de0b",
   "metadata": {},
   "outputs": [],
   "source": [
    "# Point 20\n",
    "top_pos_players = fifa_data.groupby('Position').apply(lambda x: x.nlargest(5, 'Overall')).reset_index(drop=True)"
   ]
  },
  {
   "cell_type": "code",
   "execution_count": 160,
   "id": "f1055193",
   "metadata": {},
   "outputs": [
    {
     "name": "stdout",
     "output_type": "stream",
     "text": [
      "Position\n",
      "ST     294000.0\n",
      "LW     261000.0\n",
      "RCM    240800.0\n",
      "RCB    231000.0\n",
      "CDM    217000.0\n",
      "RW     202000.0\n",
      "GK     192800.0\n",
      "LCM    184400.0\n",
      "LB     177200.0\n",
      "CAM    174000.0\n",
      "LM     164600.0\n",
      "LCB    162000.0\n",
      "RB     155400.0\n",
      "RF     148000.0\n",
      "CB     139600.0\n",
      "RS     132200.0\n",
      "RM     131400.0\n",
      "CM     130600.0\n",
      "LS     130200.0\n",
      "LDM    126600.0\n",
      "LF     121200.0\n",
      "RDM    105000.0\n",
      "LAM     81600.0\n",
      "CF      47400.0\n",
      "RAM     45400.0\n",
      "RWB     44200.0\n",
      "LWB     34200.0\n",
      "Name: Wage, dtype: float64\n"
     ]
    }
   ],
   "source": [
    "# Point 21\n",
    "avg_wage_pos=top_pos_players.groupby('Position')['Wage'].mean().sort_values(ascending=False)\n",
    "print(avg_wage_pos)"
   ]
  },
  {
   "cell_type": "code",
   "execution_count": null,
   "id": "b1576726",
   "metadata": {},
   "outputs": [],
   "source": []
  },
  {
   "cell_type": "code",
   "execution_count": null,
   "id": "14fa9e64",
   "metadata": {},
   "outputs": [],
   "source": []
  }
 ],
 "metadata": {
  "kernelspec": {
   "display_name": "Python 3 (ipykernel)",
   "language": "python",
   "name": "python3"
  },
  "language_info": {
   "codemirror_mode": {
    "name": "ipython",
    "version": 3
   },
   "file_extension": ".py",
   "mimetype": "text/x-python",
   "name": "python",
   "nbconvert_exporter": "python",
   "pygments_lexer": "ipython3",
   "version": "3.9.12"
  }
 },
 "nbformat": 4,
 "nbformat_minor": 5
}
